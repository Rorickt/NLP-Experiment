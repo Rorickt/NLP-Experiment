{
 "cells": [
  {
   "cell_type": "code",
   "execution_count": 1,
   "metadata": {},
   "outputs": [],
   "source": [
    "import pandas as pd\n",
    "import numpy as np"
   ]
  },
  {
   "cell_type": "code",
   "execution_count": null,
   "metadata": {},
   "outputs": [],
   "source": [
    "test_labels=pd.read_csv(r'C:\\Users\\roric\\Master HLT\\Period 6\\NLP Experiments\\reprod_code\\data\\labels-levela.csv', header=None, names=['ID', 'Label'])\n",
    "test_text=pd.read_csv(r'C:\\Users\\roric\\Master HLT\\Period 6\\NLP Experiments\\reprod_code\\data\\testset-levela.tsv', delimiter='\\t')\n",
    "trainfull=pd.read_csv(r'C:\\Users\\roric\\Master HLT\\Period 6\\NLP Experiments\\reprod_code\\data\\olid-training-v1.0.tsv', delimiter='\\t')"
   ]
  },
  {
   "cell_type": "code",
   "execution_count": null,
   "metadata": {},
   "outputs": [],
   "source": [
    "final_test_data=pd.DataFrame()\n",
    "final_test_data['ID'] = test_labels.ID\n",
    "final_test_data['Text'] = test_text.tweet\n",
    "final_test_data['Label'] = test_labels.Label\n",
    "final_test_data.to_csv(r'C:\\Users\\roric\\Master HLT\\Period 6\\NLP Experiments\\reprod_code\\data\\full_test.csv', sep=',', index=False)"
   ]
  },
  {
   "cell_type": "code",
   "execution_count": null,
   "metadata": {},
   "outputs": [],
   "source": [
    "train_full = trainfull[['id', 'tweet', 'subtask_a']]\n",
    "train_full.to_csv(r'C:\\Users\\roric\\Master HLT\\Period 6\\NLP Experiments\\reprod_code\\data\\full_train.csv', sep=',', index=False)"
   ]
  }
 ],
 "metadata": {
  "kernelspec": {
   "display_name": "Python 3.8.12 ('base')",
   "language": "python",
   "name": "python3"
  },
  "language_info": {
   "codemirror_mode": {
    "name": "ipython",
    "version": 3
   },
   "file_extension": ".py",
   "mimetype": "text/x-python",
   "name": "python",
   "nbconvert_exporter": "python",
   "pygments_lexer": "ipython3",
   "version": "3.8.12"
  },
  "orig_nbformat": 4,
  "vscode": {
   "interpreter": {
    "hash": "e6f88519aa74d89c62cdcc59414067e256965681425d9b4dee1ef762f1172e6f"
   }
  }
 },
 "nbformat": 4,
 "nbformat_minor": 2
}
